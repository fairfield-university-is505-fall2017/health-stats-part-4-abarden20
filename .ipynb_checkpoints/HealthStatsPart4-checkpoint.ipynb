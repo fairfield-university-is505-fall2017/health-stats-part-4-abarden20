{
 "cells": [
  {
   "cell_type": "markdown",
   "metadata": {},
   "source": [
    "# Health Stats Part 3: Waist 2 Hip Ratios"
   ]
  },
  {
   "cell_type": "markdown",
   "metadata": {},
   "source": [
    "<!--- Write an explanation of the Waist To Hips Ratio statistic used by health professionals. Please include an explanation of what it is used for, exactly how it is calculated, and how to interpret the results. Note: Formmatting matters. Make this as professional as you can using Markdown.  --->\n",
    "EDIT THIS MARKDOWN CELL"
   ]
  },
  {
   "cell_type": "markdown",
   "metadata": {},
   "source": [
    "## Source Data "
   ]
  },
  {
   "cell_type": "markdown",
   "metadata": {},
   "source": [
    "<!--- Replace the text below with a Markdown bullet list that defines the columns of the CSV file. Be sure to indicate the data type for each column. --->\n",
    "EDIT THIS MARKDOWN CELL"
   ]
  },
  {
   "cell_type": "markdown",
   "metadata": {},
   "source": [
    "## Data Import"
   ]
  },
  {
   "cell_type": "code",
   "execution_count": 137,
   "metadata": {},
   "outputs": [],
   "source": [
    "# Goal: Extract the data from the file\n",
    "# Use Pandas's I/O functions to import the raw data from the CSV file. \n",
    "# Make sure to use dtypes to name and type the columns while reading the file.\n",
    "\n",
    "import numpy as np\n",
    "import pandas as pd\n",
    "\n",
    "#Read in the CSV file\n",
    "dtype_rows = pd.read_csv('w2h_data.csv').dtypes\n",
    "rows = pd.read_csv('w2h_data.csv', header = 0, index_col = 0, dtype={'ID': int, 'Waist': int, 'Hip': int, 'Gender': object})\n",
    "#print(dtype_rows)\n",
    "#print(rows)\n"
   ]
  },
  {
   "cell_type": "markdown",
   "metadata": {},
   "source": [
    "## Calculations"
   ]
  },
  {
   "cell_type": "code",
   "execution_count": 138,
   "metadata": {
    "scrolled": true
   },
   "outputs": [],
   "source": [
    "# Goal: For each row of data calculate and store the w2h_ratio and shape.\n",
    "    \n",
    "# Have NumPy use the data in the DataFrame.\n",
    "\n",
    "# calculate the waist to hips ratios\n",
    "w2h_ratios = rows['Waist'] / rows['Hip']\n",
    "#print(w2h_ratio)\n",
    "\n",
    "#rows['W2H Ratio'] = pd.Series(w2h_ratio)\n",
    "\n",
    "# determine who is male (True) or female (False)\n",
    "males = (rows['Gender']=='M')\n",
    "\n",
    "# males with w2h ration > 0.9 are apple shaped\n",
    "male_apples = np.logical_and((w2h_ratios>0.9),males)\n",
    "\n",
    "# females with w2h ratio > 0.8 are apple shaped\n",
    "female_apples = np.logical_and((w2h_ratios>0.8),np.logical_not(males))\n",
    "\n",
    "# combines the male_apples and female_apples\n",
    "apples=np.logical_or(male_apples,female_apples)\n",
    "\n",
    "# works like an if then else statement\n",
    "shapes=np.where(apples,'Apple','Pear')\n",
    "\n",
    "rows['W2H Ratio'] = w2h_ratio\n",
    "rows['Shape'] = shapes   \n",
    "#print(rows)\n"
   ]
  },
  {
   "cell_type": "markdown",
   "metadata": {},
   "source": [
    "## Output"
   ]
  },
  {
   "cell_type": "code",
   "execution_count": 139,
   "metadata": {},
   "outputs": [
    {
     "name": "stdout",
     "output_type": "stream",
     "text": [
      "    Waist  Hip Gender  W2H Ratio  Shape\n",
      "ID                                     \n",
      "1      30   32      M   0.937500  Apple\n",
      "2      32   37      M   0.864865   Pear\n",
      "3      30   36      M   0.833333   Pear\n",
      "4      33   39      M   0.846154   Pear\n",
      "5      29   33      M   0.878788   Pear\n",
      "6      32   38      M   0.842105   Pear\n",
      "7      33   42      M   0.785714   Pear\n",
      "8      30   40      M   0.750000   Pear\n",
      "9      30   37      M   0.810811   Pear\n",
      "10     32   39      M   0.820513   Pear\n",
      "11     24   35      F   0.685714   Pear\n",
      "12     25   37      F   0.675676   Pear\n",
      "13     24   37      F   0.648649   Pear\n",
      "14     22   34      F   0.647059   Pear\n",
      "15     26   38      F   0.684211   Pear\n",
      "16     26   37      F   0.702703   Pear\n",
      "17     25   38      F   0.657895   Pear\n",
      "18     26   37      F   0.702703   Pear\n",
      "19     28   40      F   0.700000   Pear\n",
      "20     23   35      F   0.657143   Pear\n"
     ]
    }
   ],
   "source": [
    "# Goal: pretty print the rows as an HTML table\n",
    "\n",
    "#from pandas import *\n",
    "\n",
    "df = pd.DataFrame(rows)\n",
    "print(df)\n",
    "\n",
    "df.to_csv(\"StatsResults.csv\")\n",
    "\n"
   ]
  },
  {
   "cell_type": "code",
   "execution_count": null,
   "metadata": {
    "collapsed": true
   },
   "outputs": [],
   "source": []
  }
 ],
 "metadata": {
  "kernelspec": {
   "display_name": "Python 3",
   "language": "python",
   "name": "python3"
  },
  "language_info": {
   "codemirror_mode": {
    "name": "ipython",
    "version": 3
   },
   "file_extension": ".py",
   "mimetype": "text/x-python",
   "name": "python",
   "nbconvert_exporter": "python",
   "pygments_lexer": "ipython3",
   "version": "3.6.1"
  }
 },
 "nbformat": 4,
 "nbformat_minor": 2
}
